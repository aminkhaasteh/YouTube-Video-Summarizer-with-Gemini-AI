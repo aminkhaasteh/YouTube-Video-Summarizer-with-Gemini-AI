{
 "cells": [
  {
   "cell_type": "markdown",
   "id": "306a5f2a",
   "metadata": {
    "papermill": {
     "duration": 0.005057,
     "end_time": "2025-04-04T22:22:08.963335",
     "exception": false,
     "start_time": "2025-04-04T22:22:08.958278",
     "status": "completed"
    },
    "tags": []
   },
   "source": [
    "# YouTube Video Summarizer with Gemini AI\n",
    "## 5-day Gen AI Intensive Course Capstone Project\n",
    "\n",
    "### Introduction\n",
    "\n",
    "This notebook demonstrates a YouTube video summarization system that leverages multiple Gen AI capabilities from Google's Vertex AI. The project aims to help users quickly understand the content of YouTube videos without watching them in full by generating concise, informative summaries.\n",
    "\n",
    "### Use Case\n",
    "\n",
    "In today's information-rich world, we often encounter interesting YouTube videos but lack the time to watch them entirely. This project addresses this problem by:\n",
    "1. Extracting transcripts from YouTube videos\n",
    "2. Using Gen AI to analyze and summarize the content\n",
    "3. Providing structured, concise summaries that capture key information\n",
    "\n",
    "### Gen AI Capabilities Demonstrated\n",
    "1. **Document Understanding** - Processing and comprehending video transcripts\n",
    "2. **Structured Output** - Generating summaries in consistent, structured formats\n",
    "3. **Few-shot Prompting** - Improving summary quality with examples\n",
    "4. **Long Context Window** - Handling lengthy video transcripts\n",
    "\n",
    "## Setup\n",
    "### Install Required Libraries"
   ]
  },
  {
   "cell_type": "code",
   "execution_count": 1,
   "id": "ceb1cdee",
   "metadata": {
    "execution": {
     "iopub.execute_input": "2025-04-04T22:22:08.973000Z",
     "iopub.status.busy": "2025-04-04T22:22:08.972714Z",
     "iopub.status.idle": "2025-04-04T22:22:14.071550Z",
     "shell.execute_reply": "2025-04-04T22:22:14.070297Z"
    },
    "papermill": {
     "duration": 5.105419,
     "end_time": "2025-04-04T22:22:14.073102",
     "exception": false,
     "start_time": "2025-04-04T22:22:08.967683",
     "status": "completed"
    },
    "tags": []
   },
   "outputs": [
    {
     "name": "stdout",
     "output_type": "stream",
     "text": [
      "Requirement already satisfied: google-generativeai in /usr/local/lib/python3.10/dist-packages (0.8.3)\r\n",
      "Collecting youtube-transcript-api\r\n",
      "  Downloading youtube_transcript_api-1.0.3-py3-none-any.whl.metadata (23 kB)\r\n",
      "Collecting pytubefix\r\n",
      "  Downloading pytubefix-8.12.3-py3-none-any.whl.metadata (5.3 kB)\r\n",
      "Requirement already satisfied: pandas in /usr/local/lib/python3.10/dist-packages (2.2.3)\r\n",
      "Requirement already satisfied: numpy in /usr/local/lib/python3.10/dist-packages (1.26.4)\r\n",
      "Requirement already satisfied: matplotlib in /usr/local/lib/python3.10/dist-packages (3.7.5)\r\n",
      "Requirement already satisfied: google-ai-generativelanguage==0.6.10 in /usr/local/lib/python3.10/dist-packages (from google-generativeai) (0.6.10)\r\n",
      "Requirement already satisfied: google-api-core in /usr/local/lib/python3.10/dist-packages (from google-generativeai) (1.34.1)\r\n",
      "Requirement already satisfied: google-api-python-client in /usr/local/lib/python3.10/dist-packages (from google-generativeai) (2.155.0)\r\n",
      "Requirement already satisfied: google-auth>=2.15.0 in /usr/local/lib/python3.10/dist-packages (from google-generativeai) (2.27.0)\r\n",
      "Requirement already satisfied: protobuf in /usr/local/lib/python3.10/dist-packages (from google-generativeai) (3.20.3)\r\n",
      "Requirement already satisfied: pydantic in /usr/local/lib/python3.10/dist-packages (from google-generativeai) (2.11.0a2)\r\n",
      "Requirement already satisfied: tqdm in /usr/local/lib/python3.10/dist-packages (from google-generativeai) (4.67.1)\r\n",
      "Requirement already satisfied: typing-extensions in /usr/local/lib/python3.10/dist-packages (from google-generativeai) (4.12.2)\r\n",
      "Requirement already satisfied: proto-plus<2.0.0dev,>=1.22.3 in /usr/local/lib/python3.10/dist-packages (from google-ai-generativelanguage==0.6.10->google-generativeai) (1.25.0)\r\n",
      "Requirement already satisfied: defusedxml<0.8.0,>=0.7.1 in /usr/local/lib/python3.10/dist-packages (from youtube-transcript-api) (0.7.1)\r\n",
      "Requirement already satisfied: requests in /usr/local/lib/python3.10/dist-packages (from youtube-transcript-api) (2.32.3)\r\n",
      "Requirement already satisfied: python-dateutil>=2.8.2 in /usr/local/lib/python3.10/dist-packages (from pandas) (2.9.0.post0)\r\n",
      "Requirement already satisfied: pytz>=2020.1 in /usr/local/lib/python3.10/dist-packages (from pandas) (2025.1)\r\n",
      "Requirement already satisfied: tzdata>=2022.7 in /usr/local/lib/python3.10/dist-packages (from pandas) (2025.1)\r\n",
      "Requirement already satisfied: mkl_fft in /usr/local/lib/python3.10/dist-packages (from numpy) (1.3.8)\r\n",
      "Requirement already satisfied: mkl_random in /usr/local/lib/python3.10/dist-packages (from numpy) (1.2.4)\r\n",
      "Requirement already satisfied: mkl_umath in /usr/local/lib/python3.10/dist-packages (from numpy) (0.1.1)\r\n",
      "Requirement already satisfied: mkl in /usr/local/lib/python3.10/dist-packages (from numpy) (2025.0.1)\r\n",
      "Requirement already satisfied: tbb4py in /usr/local/lib/python3.10/dist-packages (from numpy) (2022.0.0)\r\n",
      "Requirement already satisfied: mkl-service in /usr/local/lib/python3.10/dist-packages (from numpy) (2.4.1)\r\n",
      "Requirement already satisfied: contourpy>=1.0.1 in /usr/local/lib/python3.10/dist-packages (from matplotlib) (1.3.1)\r\n",
      "Requirement already satisfied: cycler>=0.10 in /usr/local/lib/python3.10/dist-packages (from matplotlib) (0.12.1)\r\n",
      "Requirement already satisfied: fonttools>=4.22.0 in /usr/local/lib/python3.10/dist-packages (from matplotlib) (4.55.3)\r\n",
      "Requirement already satisfied: kiwisolver>=1.0.1 in /usr/local/lib/python3.10/dist-packages (from matplotlib) (1.4.7)\r\n",
      "Requirement already satisfied: packaging>=20.0 in /usr/local/lib/python3.10/dist-packages (from matplotlib) (24.2)\r\n",
      "Requirement already satisfied: pillow>=6.2.0 in /usr/local/lib/python3.10/dist-packages (from matplotlib) (11.0.0)\r\n",
      "Requirement already satisfied: pyparsing>=2.3.1 in /usr/local/lib/python3.10/dist-packages (from matplotlib) (3.2.0)\r\n",
      "Requirement already satisfied: googleapis-common-protos<2.0dev,>=1.56.2 in /usr/local/lib/python3.10/dist-packages (from google-api-core->google-generativeai) (1.66.0)\r\n",
      "Requirement already satisfied: cachetools<6.0,>=2.0.0 in /usr/local/lib/python3.10/dist-packages (from google-auth>=2.15.0->google-generativeai) (5.5.0)\r\n",
      "Requirement already satisfied: pyasn1-modules>=0.2.1 in /usr/local/lib/python3.10/dist-packages (from google-auth>=2.15.0->google-generativeai) (0.4.1)\r\n",
      "Requirement already satisfied: rsa<5,>=3.1.4 in /usr/local/lib/python3.10/dist-packages (from google-auth>=2.15.0->google-generativeai) (4.9)\r\n",
      "Requirement already satisfied: six>=1.5 in /usr/local/lib/python3.10/dist-packages (from python-dateutil>=2.8.2->pandas) (1.17.0)\r\n",
      "Requirement already satisfied: charset-normalizer<4,>=2 in /usr/local/lib/python3.10/dist-packages (from requests->youtube-transcript-api) (3.4.1)\r\n",
      "Requirement already satisfied: idna<4,>=2.5 in /usr/local/lib/python3.10/dist-packages (from requests->youtube-transcript-api) (3.10)\r\n",
      "Requirement already satisfied: urllib3<3,>=1.21.1 in /usr/local/lib/python3.10/dist-packages (from requests->youtube-transcript-api) (2.3.0)\r\n",
      "Requirement already satisfied: certifi>=2017.4.17 in /usr/local/lib/python3.10/dist-packages (from requests->youtube-transcript-api) (2025.1.31)\r\n",
      "Requirement already satisfied: httplib2<1.dev0,>=0.19.0 in /usr/local/lib/python3.10/dist-packages (from google-api-python-client->google-generativeai) (0.22.0)\r\n",
      "Requirement already satisfied: google-auth-httplib2<1.0.0,>=0.2.0 in /usr/local/lib/python3.10/dist-packages (from google-api-python-client->google-generativeai) (0.2.0)\r\n",
      "Requirement already satisfied: uritemplate<5,>=3.0.1 in /usr/local/lib/python3.10/dist-packages (from google-api-python-client->google-generativeai) (4.1.1)\r\n",
      "Requirement already satisfied: intel-openmp>=2024 in /usr/local/lib/python3.10/dist-packages (from mkl->numpy) (2024.2.0)\r\n",
      "Requirement already satisfied: tbb==2022.* in /usr/local/lib/python3.10/dist-packages (from mkl->numpy) (2022.0.0)\r\n",
      "Requirement already satisfied: tcmlib==1.* in /usr/local/lib/python3.10/dist-packages (from tbb==2022.*->mkl->numpy) (1.2.0)\r\n",
      "Requirement already satisfied: intel-cmplr-lib-rt in /usr/local/lib/python3.10/dist-packages (from mkl_umath->numpy) (2024.2.0)\r\n",
      "Requirement already satisfied: annotated-types>=0.6.0 in /usr/local/lib/python3.10/dist-packages (from pydantic->google-generativeai) (0.7.0)\r\n",
      "Requirement already satisfied: pydantic-core==2.29.0 in /usr/local/lib/python3.10/dist-packages (from pydantic->google-generativeai) (2.29.0)\r\n",
      "Requirement already satisfied: grpcio<2.0dev,>=1.33.2 in /usr/local/lib/python3.10/dist-packages (from google-api-core[grpc]!=2.0.*,!=2.1.*,!=2.10.*,!=2.2.*,!=2.3.*,!=2.4.*,!=2.5.*,!=2.6.*,!=2.7.*,!=2.8.*,!=2.9.*,<3.0.0dev,>=1.34.1->google-ai-generativelanguage==0.6.10->google-generativeai) (1.68.1)\r\n",
      "Requirement already satisfied: grpcio-status<2.0dev,>=1.33.2 in /usr/local/lib/python3.10/dist-packages (from google-api-core[grpc]!=2.0.*,!=2.1.*,!=2.10.*,!=2.2.*,!=2.3.*,!=2.4.*,!=2.5.*,!=2.6.*,!=2.7.*,!=2.8.*,!=2.9.*,<3.0.0dev,>=1.34.1->google-ai-generativelanguage==0.6.10->google-generativeai) (1.48.2)\r\n",
      "Requirement already satisfied: intel-cmplr-lib-ur==2024.2.0 in /usr/local/lib/python3.10/dist-packages (from intel-openmp>=2024->mkl->numpy) (2024.2.0)\r\n",
      "Requirement already satisfied: pyasn1<0.7.0,>=0.4.6 in /usr/local/lib/python3.10/dist-packages (from pyasn1-modules>=0.2.1->google-auth>=2.15.0->google-generativeai) (0.6.1)\r\n",
      "Downloading youtube_transcript_api-1.0.3-py3-none-any.whl (2.2 MB)\r\n",
      "\u001b[2K   \u001b[90m━━━━━━━━━━━━━━━━━━━━━━━━━━━━━━━━━━━━━━━━\u001b[0m \u001b[32m2.2/2.2 MB\u001b[0m \u001b[31m35.6 MB/s\u001b[0m eta \u001b[36m0:00:00\u001b[0m\r\n",
      "\u001b[?25hDownloading pytubefix-8.12.3-py3-none-any.whl (731 kB)\r\n",
      "\u001b[2K   \u001b[90m━━━━━━━━━━━━━━━━━━━━━━━━━━━━━━━━━━━━━━━━\u001b[0m \u001b[32m731.5/731.5 kB\u001b[0m \u001b[31m34.6 MB/s\u001b[0m eta \u001b[36m0:00:00\u001b[0m\r\n",
      "\u001b[?25hInstalling collected packages: pytubefix, youtube-transcript-api\r\n",
      "Successfully installed pytubefix-8.12.3 youtube-transcript-api-1.0.3\r\n"
     ]
    }
   ],
   "source": [
    "!pip install google-generativeai youtube-transcript-api pytubefix pandas numpy matplotlib"
   ]
  },
  {
   "cell_type": "markdown",
   "id": "121f46b4",
   "metadata": {
    "papermill": {
     "duration": 0.004683,
     "end_time": "2025-04-04T22:22:14.083250",
     "exception": false,
     "start_time": "2025-04-04T22:22:14.078567",
     "status": "completed"
    },
    "tags": []
   },
   "source": [
    "### Import Libraries"
   ]
  },
  {
   "cell_type": "code",
   "execution_count": 2,
   "id": "443b45d0",
   "metadata": {
    "execution": {
     "iopub.execute_input": "2025-04-04T22:22:14.094104Z",
     "iopub.status.busy": "2025-04-04T22:22:14.093827Z",
     "iopub.status.idle": "2025-04-04T22:22:16.390118Z",
     "shell.execute_reply": "2025-04-04T22:22:16.389081Z"
    },
    "papermill": {
     "duration": 2.303528,
     "end_time": "2025-04-04T22:22:16.391741",
     "exception": false,
     "start_time": "2025-04-04T22:22:14.088213",
     "status": "completed"
    },
    "tags": []
   },
   "outputs": [],
   "source": [
    "import google.generativeai as genai\n",
    "from youtube_transcript_api import YouTubeTranscriptApi\n",
    "from pytubefix import YouTube\n",
    "import pandas as pd\n",
    "import numpy as np\n",
    "import matplotlib.pyplot as plt\n",
    "import re\n",
    "import json\n",
    "import os\n",
    "from IPython.display import HTML, display"
   ]
  },
  {
   "cell_type": "markdown",
   "id": "514509dd",
   "metadata": {
    "papermill": {
     "duration": 0.004669,
     "end_time": "2025-04-04T22:22:16.401774",
     "exception": false,
     "start_time": "2025-04-04T22:22:16.397105",
     "status": "completed"
    },
    "tags": []
   },
   "source": [
    "### Set up your API key\n",
    "\n",
    "To run the following cell, your API key must be stored it in a [Kaggle secret](https://www.kaggle.com/discussions/product-feedback/114053) named `GOOGLE_API_KEY`.\n",
    "\n",
    "If you don't already have an API key, you can grab one from [AI Studio](https://aistudio.google.com/app/apikey). You can find [detailed instructions in the docs](https://ai.google.dev/gemini-api/docs/api-key).\n",
    "\n",
    "To make the key available through Kaggle secrets, choose `Secrets` from the `Add-ons` menu and follow the instructions to add your key or enable it for this notebook."
   ]
  },
  {
   "cell_type": "code",
   "execution_count": 3,
   "id": "570d73a4",
   "metadata": {
    "execution": {
     "iopub.execute_input": "2025-04-04T22:22:16.412572Z",
     "iopub.status.busy": "2025-04-04T22:22:16.412118Z",
     "iopub.status.idle": "2025-04-04T22:22:16.611337Z",
     "shell.execute_reply": "2025-04-04T22:22:16.610403Z"
    },
    "papermill": {
     "duration": 0.20631,
     "end_time": "2025-04-04T22:22:16.612915",
     "exception": false,
     "start_time": "2025-04-04T22:22:16.406605",
     "status": "completed"
    },
    "tags": []
   },
   "outputs": [],
   "source": [
    "from kaggle_secrets import UserSecretsClient\n",
    "\n",
    "GOOGLE_API_KEY = UserSecretsClient().get_secret(\"GOOGLE_API_KEY\")\n",
    "\n",
    "genai.configure(api_key=GOOGLE_API_KEY)"
   ]
  },
  {
   "cell_type": "markdown",
   "id": "ef5cd1b6",
   "metadata": {
    "papermill": {
     "duration": 0.004749,
     "end_time": "2025-04-04T22:22:16.623093",
     "exception": false,
     "start_time": "2025-04-04T22:22:16.618344",
     "status": "completed"
    },
    "tags": []
   },
   "source": [
    "## Data Collection: YouTube Video Processing\n",
    "\n",
    "### Function to Extract Video Information and Transcript"
   ]
  },
  {
   "cell_type": "code",
   "execution_count": 4,
   "id": "986a9475",
   "metadata": {
    "execution": {
     "iopub.execute_input": "2025-04-04T22:22:16.634105Z",
     "iopub.status.busy": "2025-04-04T22:22:16.633808Z",
     "iopub.status.idle": "2025-04-04T22:22:16.640741Z",
     "shell.execute_reply": "2025-04-04T22:22:16.639843Z"
    },
    "papermill": {
     "duration": 0.013936,
     "end_time": "2025-04-04T22:22:16.641932",
     "exception": false,
     "start_time": "2025-04-04T22:22:16.627996",
     "status": "completed"
    },
    "tags": []
   },
   "outputs": [],
   "source": [
    "def get_video_info(video_url):\n",
    "    \"\"\"Get video information from YouTube URL with better error handling.\"\"\"\n",
    "    try:\n",
    "        # Extract video ID from URL\n",
    "        if \"youtube.com\" in video_url:\n",
    "            video_id = re.findall(r'(?:v=|\\/)([0-9A-Za-z_-]{11}).*', video_url)[0]\n",
    "        elif \"youtu.be\" in video_url:\n",
    "            video_id = video_url.split('/')[-1][:11]\n",
    "        else:\n",
    "            raise ValueError(\"Invalid YouTube URL format\")\n",
    "            \n",
    "        print(f\"Extracted video ID: {video_id}\")\n",
    "        \n",
    "        # Try using pytube\n",
    "        try:\n",
    "            yt = YouTube(video_url)\n",
    "            \n",
    "            video_info = {\n",
    "                'title': yt.title,\n",
    "                'channel': yt.author,\n",
    "                'publish_date': yt.publish_date,\n",
    "                'views': yt.views,\n",
    "                'description': yt.description,\n",
    "                'length': yt.length,\n",
    "                'thumbnail': yt.thumbnail_url,\n",
    "                'video_id': video_id\n",
    "            }\n",
    "            \n",
    "            return video_info\n",
    "            \n",
    "        except Exception as e:\n",
    "            print(f\"Pytube error: {e}\")\n",
    "            # Fall back to basic info\n",
    "            return {\n",
    "                'title': f\"Video {video_id}\",\n",
    "                'channel': \"Unknown\",\n",
    "                'publish_date': None,\n",
    "                'views': 0,\n",
    "                'description': \"\",\n",
    "                'length': 0,\n",
    "                'thumbnail': f\"https://img.youtube.com/vi/{video_id}/maxresdefault.jpg\",\n",
    "                'video_id': video_id\n",
    "            }\n",
    "            \n",
    "    except Exception as e:\n",
    "        print(f\"Error fetching video info: {e}\")\n",
    "        return None\n",
    "\n",
    "def get_transcript(video_id):\n",
    "    \"\"\"Get transcript from YouTube video ID with fallback options.\"\"\"\n",
    "    try:\n",
    "        transcript_list = YouTubeTranscriptApi.get_transcript(video_id)\n",
    "        full_transcript = \" \".join([entry['text'] for entry in transcript_list])\n",
    "        return full_transcript\n",
    "    except Exception as e:\n",
    "        print(f\"Error fetching transcript: {e}\")\n",
    "        return \"No transcript available. The AI will analyze based on video metadata only.\""
   ]
  },
  {
   "cell_type": "markdown",
   "id": "7a425fe4",
   "metadata": {
    "papermill": {
     "duration": 0.004796,
     "end_time": "2025-04-04T22:22:16.652156",
     "exception": false,
     "start_time": "2025-04-04T22:22:16.647360",
     "status": "completed"
    },
    "tags": []
   },
   "source": [
    "### Function to Display Video Information"
   ]
  },
  {
   "cell_type": "code",
   "execution_count": 5,
   "id": "c249aa33",
   "metadata": {
    "execution": {
     "iopub.execute_input": "2025-04-04T22:22:16.662873Z",
     "iopub.status.busy": "2025-04-04T22:22:16.662547Z",
     "iopub.status.idle": "2025-04-04T22:22:16.666904Z",
     "shell.execute_reply": "2025-04-04T22:22:16.666039Z"
    },
    "papermill": {
     "duration": 0.011099,
     "end_time": "2025-04-04T22:22:16.668027",
     "exception": false,
     "start_time": "2025-04-04T22:22:16.656928",
     "status": "completed"
    },
    "tags": []
   },
   "outputs": [],
   "source": [
    "def display_video_info(video_info):\n",
    "    \"\"\"Display video information in a nice format.\"\"\"\n",
    "    if not video_info:\n",
    "        return\n",
    "    \n",
    "    html_content = f\"\"\"\n",
    "    <div style=\"display: flex; margin-bottom: 20px;\">\n",
    "        <div style=\"margin-right: 20px; margin-top: 15px;\">\n",
    "            <img src=\"{video_info['thumbnail']}\" width=\"320\" style=\"border-radius: 5px;\"/>\n",
    "        </div>\n",
    "        <div>\n",
    "            <h2>{video_info['title']}</h2>\n",
    "            <p><b>Channel:</b> {video_info['channel']}</p>\n",
    "            <p><b>Published:</b> {video_info['publish_date']}</p>\n",
    "            <p><b>Views:</b> {video_info['views']:,}</p>\n",
    "            <p><b>Length:</b> {int(video_info['length'] // 60)} min {video_info['length'] % 60} sec</p>\n",
    "        </div>\n",
    "    </div>\n",
    "    \"\"\"\n",
    "    display(HTML(html_content))"
   ]
  },
  {
   "cell_type": "markdown",
   "id": "562df502",
   "metadata": {
    "papermill": {
     "duration": 0.004724,
     "end_time": "2025-04-04T22:22:16.677686",
     "exception": false,
     "start_time": "2025-04-04T22:22:16.672962",
     "status": "completed"
    },
    "tags": []
   },
   "source": [
    "## Implementing Gen AI Capabilities\n",
    "\n",
    "### 1. Document Understanding: Process YouTube Transcript"
   ]
  },
  {
   "cell_type": "code",
   "execution_count": 6,
   "id": "47ce8f35",
   "metadata": {
    "execution": {
     "iopub.execute_input": "2025-04-04T22:22:16.688332Z",
     "iopub.status.busy": "2025-04-04T22:22:16.688002Z",
     "iopub.status.idle": "2025-04-04T22:22:16.692884Z",
     "shell.execute_reply": "2025-04-04T22:22:16.692058Z"
    },
    "papermill": {
     "duration": 0.011923,
     "end_time": "2025-04-04T22:22:16.694292",
     "exception": false,
     "start_time": "2025-04-04T22:22:16.682369",
     "status": "completed"
    },
    "tags": []
   },
   "outputs": [],
   "source": [
    "def preprocess_transcript(transcript):\n",
    "    \"\"\"Clean and prepare the transcript for summarization.\"\"\"\n",
    "    # Remove extra whitespace\n",
    "    cleaned = re.sub(r'\\s+', ' ', transcript).strip()\n",
    "    \n",
    "    # Split into chunks for processing if necessary\n",
    "    # (Important for longer videos)\n",
    "    MAX_CHUNK_SIZE = 30000\n",
    "    chunks = []\n",
    "    \n",
    "    if len(cleaned) <= MAX_CHUNK_SIZE:\n",
    "        chunks = [cleaned]\n",
    "    else:\n",
    "        # Split by sentences to avoid cutting in the middle of a sentence\n",
    "        sentences = re.split(r'(?<=[.!?])\\s+', cleaned)\n",
    "        current_chunk = \"\"\n",
    "        \n",
    "        for sentence in sentences:\n",
    "            if len(current_chunk) + len(sentence) <= MAX_CHUNK_SIZE:\n",
    "                current_chunk += sentence + \" \"\n",
    "            else:\n",
    "                chunks.append(current_chunk.strip())\n",
    "                current_chunk = sentence + \" \"\n",
    "                \n",
    "        if current_chunk:\n",
    "            chunks.append(current_chunk.strip())\n",
    "    \n",
    "    return chunks"
   ]
  },
  {
   "cell_type": "markdown",
   "id": "38909ba5",
   "metadata": {
    "papermill": {
     "duration": 0.004638,
     "end_time": "2025-04-04T22:22:16.703723",
     "exception": false,
     "start_time": "2025-04-04T22:22:16.699085",
     "status": "completed"
    },
    "tags": []
   },
   "source": [
    "### 2. Few-shot Prompting: Creating Examples for Better Summaries"
   ]
  },
  {
   "cell_type": "code",
   "execution_count": 7,
   "id": "bbda9a8a",
   "metadata": {
    "execution": {
     "iopub.execute_input": "2025-04-04T22:22:16.714401Z",
     "iopub.status.busy": "2025-04-04T22:22:16.714084Z",
     "iopub.status.idle": "2025-04-04T22:22:16.718360Z",
     "shell.execute_reply": "2025-04-04T22:22:16.717274Z"
    },
    "papermill": {
     "duration": 0.011115,
     "end_time": "2025-04-04T22:22:16.719690",
     "exception": false,
     "start_time": "2025-04-04T22:22:16.708575",
     "status": "completed"
    },
    "tags": []
   },
   "outputs": [],
   "source": [
    "def create_few_shot_prompt(transcript_chunk):\n",
    "    \"\"\"Create a prompt with examples for better summarization.\"\"\"\n",
    "    \n",
    "    examples = \"\"\"\n",
    "Example 1:\n",
    "Transcript: In this tutorial, I'll show you how to build a machine learning model using TensorFlow. First, we'll install the necessary libraries. Then, we'll load and preprocess our dataset. After that, we'll create a neural network with several layers. Finally, we'll train the model and evaluate its performance.\n",
    "Summary: \n",
    "{\n",
    "  \"title\": \"TensorFlow ML Model Tutorial\",\n",
    "  \"key_points\": [\n",
    "    \"Installation of required libraries\",\n",
    "    \"Dataset loading and preprocessing\",\n",
    "    \"Neural network creation with multiple layers\",\n",
    "    \"Model training and performance evaluation\"\n",
    "  ],\n",
    "  \"main_topics\": [\"TensorFlow\", \"Machine Learning\", \"Neural Networks\"],\n",
    "  \"summary\": \"A step-by-step tutorial on building a machine learning model with TensorFlow, covering installation, data preparation, model architecture, and training.\"\n",
    "}\n",
    "\n",
    "Example 2:\n",
    "Transcript: Today we're discussing climate change. The Earth's average temperature has increased by about 1 degree Celsius since pre-industrial times. This warming is primarily caused by human activities, especially the burning of fossil fuels which releases greenhouse gases. These gases trap heat in the atmosphere, leading to global warming. The consequences include rising sea levels, more extreme weather events, and threats to biodiversity.\n",
    "Summary:\n",
    "{\n",
    "  \"title\": \"Climate Change Explained\",\n",
    "  \"key_points\": [\n",
    "    \"Earth's temperature has risen 1°C since pre-industrial era\",\n",
    "    \"Human activities, especially fossil fuel burning, are the primary cause\",\n",
    "    \"Greenhouse gases trap heat in the atmosphere\",\n",
    "    \"Effects include rising seas, extreme weather, and biodiversity loss\"\n",
    "  ],\n",
    "  \"main_topics\": [\"Climate Change\", \"Global Warming\", \"Environmental Science\"],\n",
    "  \"summary\": \"An explanation of climate change, including its causes related to human activities and greenhouse gas emissions, plus major consequences like rising sea levels and extreme weather events.\"\n",
    "}\n",
    "\"\"\"\n",
    "    \n",
    "    prompt = f\"\"\"\n",
    "{examples}\n",
    "\n",
    "Now, analyze the following transcript and provide a similar structured summary:\n",
    "\n",
    "Transcript: {transcript_chunk}\n",
    "\n",
    "Summary:\n",
    "\"\"\"\n",
    "    return prompt"
   ]
  },
  {
   "cell_type": "markdown",
   "id": "323d887e",
   "metadata": {
    "papermill": {
     "duration": 0.005001,
     "end_time": "2025-04-04T22:22:16.730208",
     "exception": false,
     "start_time": "2025-04-04T22:22:16.725207",
     "status": "completed"
    },
    "tags": []
   },
   "source": [
    "### 3. Structured Output: JSON Format Summaries"
   ]
  },
  {
   "cell_type": "code",
   "execution_count": 8,
   "id": "8643df47",
   "metadata": {
    "execution": {
     "iopub.execute_input": "2025-04-04T22:22:16.741052Z",
     "iopub.status.busy": "2025-04-04T22:22:16.740735Z",
     "iopub.status.idle": "2025-04-04T22:22:16.745607Z",
     "shell.execute_reply": "2025-04-04T22:22:16.744771Z"
    },
    "papermill": {
     "duration": 0.011824,
     "end_time": "2025-04-04T22:22:16.746898",
     "exception": false,
     "start_time": "2025-04-04T22:22:16.735074",
     "status": "completed"
    },
    "tags": []
   },
   "outputs": [],
   "source": [
    "def generate_structured_summary(transcript_chunk, model):\n",
    "    \"\"\"Generate a structured summary in JSON format.\"\"\"\n",
    "    prompt = create_few_shot_prompt(transcript_chunk)\n",
    "    \n",
    "    try:\n",
    "        response = model.generate_content(prompt)\n",
    "        \n",
    "        # Extract JSON from response\n",
    "        summary_text = response.text\n",
    "        # Find JSON object in the response\n",
    "        json_match = re.search(r'\\{.*\\}', summary_text, re.DOTALL)\n",
    "        \n",
    "        if json_match:\n",
    "            try:\n",
    "                summary_json = json.loads(json_match.group(0))\n",
    "                return summary_json\n",
    "            except json.JSONDecodeError:\n",
    "                print(\"Failed to parse JSON from response\")\n",
    "                return {\"error\": \"Failed to parse JSON\", \"raw_response\": summary_text}\n",
    "        else:\n",
    "            print(\"No JSON found in response\")\n",
    "            return {\"error\": \"No JSON found\", \"raw_response\": summary_text}\n",
    "    \n",
    "    except Exception as e:\n",
    "        print(f\"Error generating summary: {e}\")\n",
    "        return {\"error\": str(e)}"
   ]
  },
  {
   "cell_type": "markdown",
   "id": "7bfff11a",
   "metadata": {
    "papermill": {
     "duration": 0.004601,
     "end_time": "2025-04-04T22:22:16.756574",
     "exception": false,
     "start_time": "2025-04-04T22:22:16.751973",
     "status": "completed"
    },
    "tags": []
   },
   "source": [
    "### 4. Long Context Window: Handling Complete Video Transcripts"
   ]
  },
  {
   "cell_type": "code",
   "execution_count": 9,
   "id": "4341e4eb",
   "metadata": {
    "execution": {
     "iopub.execute_input": "2025-04-04T22:22:16.767113Z",
     "iopub.status.busy": "2025-04-04T22:22:16.766801Z",
     "iopub.status.idle": "2025-04-04T22:22:16.772035Z",
     "shell.execute_reply": "2025-04-04T22:22:16.771372Z"
    },
    "papermill": {
     "duration": 0.011834,
     "end_time": "2025-04-04T22:22:16.773115",
     "exception": false,
     "start_time": "2025-04-04T22:22:16.761281",
     "status": "completed"
    },
    "tags": []
   },
   "outputs": [],
   "source": [
    "def summarize_full_video(transcript, model):\n",
    "    \"\"\"Process and summarize complete video transcript, handling long context.\"\"\"\n",
    "    chunks = preprocess_transcript(transcript)\n",
    "    \n",
    "    # For single chunk videos\n",
    "    if len(chunks) == 1:\n",
    "        return generate_structured_summary(chunks[0], model)\n",
    "    \n",
    "    # For multi-chunk videos\n",
    "    chunk_summaries = []\n",
    "    for i, chunk in enumerate(chunks):\n",
    "        print(f\"Processing chunk {i+1}/{len(chunks)}...\")\n",
    "        summary = generate_structured_summary(chunk, model)\n",
    "        chunk_summaries.append(summary)\n",
    "    \n",
    "    # Combine chunk summaries into a comprehensive summary\n",
    "    combined_prompt = f\"\"\"\n",
    "Combine the following summaries from different parts of a video into one coherent summary:\n",
    "\n",
    "{json.dumps(chunk_summaries, indent=2)}\n",
    "\n",
    "Provide a final comprehensive summary in the same JSON format with title, key_points, main_topics, and summary.\n",
    "\"\"\"\n",
    "    \n",
    "    try:\n",
    "        response = model.generate_content(combined_prompt)\n",
    "        summary_text = response.text\n",
    "        json_match = re.search(r'\\{.*\\}', summary_text, re.DOTALL)\n",
    "        \n",
    "        if json_match:\n",
    "            try:\n",
    "                final_summary = json.loads(json_match.group(0))\n",
    "                return final_summary\n",
    "            except json.JSONDecodeError:\n",
    "                print(\"Failed to parse JSON from combined response\")\n",
    "                return {\"error\": \"Failed to parse combined JSON\", \"raw_response\": summary_text}\n",
    "        else:\n",
    "            print(\"No JSON found in combined response\")\n",
    "            return {\"error\": \"No JSON found in combined response\", \"raw_response\": summary_text}\n",
    "            \n",
    "    except Exception as e:\n",
    "        print(f\"Error generating combined summary: {e}\")\n",
    "        return {\"error\": str(e)}"
   ]
  },
  {
   "cell_type": "markdown",
   "id": "2eb273b6",
   "metadata": {
    "papermill": {
     "duration": 0.004442,
     "end_time": "2025-04-04T22:22:16.782290",
     "exception": false,
     "start_time": "2025-04-04T22:22:16.777848",
     "status": "completed"
    },
    "tags": []
   },
   "source": [
    "### Display Function for the Final Summary"
   ]
  },
  {
   "cell_type": "code",
   "execution_count": 10,
   "id": "be66ea3a",
   "metadata": {
    "execution": {
     "iopub.execute_input": "2025-04-04T22:22:16.792573Z",
     "iopub.status.busy": "2025-04-04T22:22:16.792266Z",
     "iopub.status.idle": "2025-04-04T22:22:16.796365Z",
     "shell.execute_reply": "2025-04-04T22:22:16.795720Z"
    },
    "papermill": {
     "duration": 0.01038,
     "end_time": "2025-04-04T22:22:16.797340",
     "exception": false,
     "start_time": "2025-04-04T22:22:16.786960",
     "status": "completed"
    },
    "tags": []
   },
   "outputs": [],
   "source": [
    "def display_summary(summary, video_info):\n",
    "    \"\"\"Display the structured summary in a readable format.\"\"\"\n",
    "    if \"error\" in summary:\n",
    "        print(f\"Error in summary: {summary['error']}\")\n",
    "        if \"raw_response\" in summary:\n",
    "            print(f\"Raw response: {summary['raw_response']}\")\n",
    "        return\n",
    "        \n",
    "    html_content = f\"\"\"\n",
    "    <div style=\"padding: 20px; border: 1px solid #ddd; border-radius: 5px;\">\n",
    "        <h2>{summary.get('title', video_info['title'])}</h2>\n",
    "        \n",
    "        <h3>Key Points:</h3>\n",
    "        <ul>\n",
    "            {\"\".join([f\"<li>{point}</li>\" for point in summary.get('key_points', [])])}\n",
    "        </ul>\n",
    "        \n",
    "        <h3>Main Topics:</h3>\n",
    "        <div style=\"margin-bottom: 15px;\">\n",
    "            {\"\".join([f'<span style=\"background-color: #007bff; color: white; padding: 5px 10px; margin-right: 10px; border-radius: 15px;\">{topic}</span>' for topic in summary.get('main_topics', [])])}\n",
    "        </div>\n",
    "        \n",
    "        <h3>Summary:</h3>\n",
    "        <p>{summary.get('summary', 'No summary available.')}</p>\n",
    "        \n",
    "        <div style=\"margin-top: 20px; font-size: 0.8em; color: #666;\">\n",
    "            <p>Original video: <a href=\"https://www.youtube.com/watch?v={video_info['video_id']}\" target=\"_blank\">{video_info['title']}</a> by {video_info['channel']}</p>\n",
    "        </div>\n",
    "    </div>\n",
    "    \"\"\"\n",
    "    display(HTML(html_content))"
   ]
  },
  {
   "cell_type": "markdown",
   "id": "0736f003",
   "metadata": {
    "papermill": {
     "duration": 0.004502,
     "end_time": "2025-04-04T22:22:16.806510",
     "exception": false,
     "start_time": "2025-04-04T22:22:16.802008",
     "status": "completed"
    },
    "tags": []
   },
   "source": [
    "## Putting It All Together\n",
    "\n",
    "### Main Function to Process a YouTube Video"
   ]
  },
  {
   "cell_type": "code",
   "execution_count": 11,
   "id": "571023a8",
   "metadata": {
    "execution": {
     "iopub.execute_input": "2025-04-04T22:22:16.816637Z",
     "iopub.status.busy": "2025-04-04T22:22:16.816355Z",
     "iopub.status.idle": "2025-04-04T22:22:16.821594Z",
     "shell.execute_reply": "2025-04-04T22:22:16.820527Z"
    },
    "papermill": {
     "duration": 0.011678,
     "end_time": "2025-04-04T22:22:16.822727",
     "exception": false,
     "start_time": "2025-04-04T22:22:16.811049",
     "status": "completed"
    },
    "tags": []
   },
   "outputs": [],
   "source": [
    "def process_youtube_video(video_url):\n",
    "    \"\"\"Process a YouTube video: extract info, transcript, and generate summary.\"\"\"\n",
    "    print(f\"Processing video: {video_url}\")\n",
    "    \n",
    "    # Get video information\n",
    "    video_info = get_video_info(video_url)\n",
    "    if not video_info:\n",
    "        print(\"Failed to get video information. Please check the URL.\")\n",
    "        return None, None, None\n",
    "    \n",
    "    # Display video information\n",
    "    display_video_info(video_info)\n",
    "    \n",
    "    # Get transcript\n",
    "    transcript = get_transcript(video_info['video_id'])\n",
    "    if not transcript:\n",
    "        print(\"Failed to get transcript. The video might not have subtitles or they are disabled.\")\n",
    "        return None, video_info, None\n",
    "    \n",
    "    print(f\"Transcript length: {len(transcript)} characters\")\n",
    "    \n",
    "    # Initialize Gemini model for text generation\n",
    "    # Use the most capable model available for handling long context\n",
    "    model = genai.GenerativeModel('gemini-1.5-pro')\n",
    "    \n",
    "    # Generate summary\n",
    "    print(\"Generating summary...\")\n",
    "    summary = summarize_full_video(transcript, model)\n",
    "    \n",
    "    # Display summary\n",
    "    display_summary(summary, video_info)\n",
    "    \n",
    "    return summary, video_info, transcript"
   ]
  },
  {
   "cell_type": "markdown",
   "id": "2f46ce06",
   "metadata": {
    "papermill": {
     "duration": 0.005306,
     "end_time": "2025-04-04T22:22:16.833043",
     "exception": false,
     "start_time": "2025-04-04T22:22:16.827737",
     "status": "completed"
    },
    "tags": []
   },
   "source": [
    "## Example Usage\n",
    "\n",
    "### Try It with a YouTube Video"
   ]
  },
  {
   "cell_type": "code",
   "execution_count": 12,
   "id": "5ad33bb3",
   "metadata": {
    "execution": {
     "iopub.execute_input": "2025-04-04T22:22:16.844563Z",
     "iopub.status.busy": "2025-04-04T22:22:16.844264Z",
     "iopub.status.idle": "2025-04-04T22:22:23.723547Z",
     "shell.execute_reply": "2025-04-04T22:22:23.722579Z"
    },
    "papermill": {
     "duration": 6.886885,
     "end_time": "2025-04-04T22:22:23.725151",
     "exception": false,
     "start_time": "2025-04-04T22:22:16.838266",
     "status": "completed"
    },
    "tags": []
   },
   "outputs": [
    {
     "name": "stdout",
     "output_type": "stream",
     "text": [
      "Processing video: https://www.youtube.com/watch?v=8jPQjjsBbIc\n",
      "Extracted video ID: 8jPQjjsBbIc\n"
     ]
    },
    {
     "data": {
      "text/html": [
       "\n",
       "    <div style=\"display: flex; margin-bottom: 20px;\">\n",
       "        <div style=\"margin-right: 20px; margin-top: 15px;\">\n",
       "            <img src=\"https://i.ytimg.com/vi/8jPQjjsBbIc/sddefault.jpg\" width=\"320\" style=\"border-radius: 5px;\"/>\n",
       "        </div>\n",
       "        <div>\n",
       "            <h2>How to stay calm when you know you'll be stressed | Daniel Levitin | TED</h2>\n",
       "            <p><b>Channel:</b> TED</p>\n",
       "            <p><b>Published:</b> 2015-11-23 08:58:55-08:00</p>\n",
       "            <p><b>Views:</b> 18,096,756</p>\n",
       "            <p><b>Length:</b> 12 min 20 sec</p>\n",
       "        </div>\n",
       "    </div>\n",
       "    "
      ],
      "text/plain": [
       "<IPython.core.display.HTML object>"
      ]
     },
     "metadata": {},
     "output_type": "display_data"
    },
    {
     "name": "stdout",
     "output_type": "stream",
     "text": [
      "Transcript length: 12360 characters\n",
      "Generating summary...\n"
     ]
    },
    {
     "data": {
      "text/html": [
       "\n",
       "    <div style=\"padding: 20px; border: 1px solid #ddd; border-radius: 5px;\">\n",
       "        <h2>Pre-Mortem: Planning for Failure</h2>\n",
       "        \n",
       "        <h3>Key Points:</h3>\n",
       "        <ul>\n",
       "            <li>Stress impairs rational thinking due to cortisol release.</li><li>Pre-mortem planning involves anticipating potential problems and mitigating them.</li><li>Designate specific places for easily lost items to leverage spatial memory.</li><li>For travel, photograph important documents and store them digitally.</li><li>When making medical decisions, inquire about the 'Number Needed to Treat' (NNT) and side effects.</li><li>Consider quality of life implications in medical choices.</li>\n",
       "        </ul>\n",
       "        \n",
       "        <h3>Main Topics:</h3>\n",
       "        <div style=\"margin-bottom: 15px;\">\n",
       "            <span style=\"background-color: #007bff; color: white; padding: 5px 10px; margin-right: 10px; border-radius: 15px;\">Decision Making</span><span style=\"background-color: #007bff; color: white; padding: 5px 10px; margin-right: 10px; border-radius: 15px;\">Stress Management</span><span style=\"background-color: #007bff; color: white; padding: 5px 10px; margin-right: 10px; border-radius: 15px;\">Planning</span><span style=\"background-color: #007bff; color: white; padding: 5px 10px; margin-right: 10px; border-radius: 15px;\">Medical Decision Making</span><span style=\"background-color: #007bff; color: white; padding: 5px 10px; margin-right: 10px; border-radius: 15px;\">Cognitive Neuroscience</span>\n",
       "        </div>\n",
       "        \n",
       "        <h3>Summary:</h3>\n",
       "        <p>This talk explores the concept of a pre-mortem, a strategy for anticipating potential failures and minimizing their impact.  Using personal anecdotes and scientific reasoning, the speaker highlights how stress affects decision-making and offers practical strategies for mitigating risks in various situations, including lost items, travel mishaps, and medical decisions. The importance of understanding the 'Number Needed to Treat' (NNT) when evaluating medical treatments is emphasized.</p>\n",
       "        \n",
       "        <div style=\"margin-top: 20px; font-size: 0.8em; color: #666;\">\n",
       "            <p>Original video: <a href=\"https://www.youtube.com/watch?v=8jPQjjsBbIc\" target=\"_blank\">How to stay calm when you know you'll be stressed | Daniel Levitin | TED</a> by TED</p>\n",
       "        </div>\n",
       "    </div>\n",
       "    "
      ],
      "text/plain": [
       "<IPython.core.display.HTML object>"
      ]
     },
     "metadata": {},
     "output_type": "display_data"
    }
   ],
   "source": [
    "# Example usage with a YouTube video URL\n",
    "video_url = \"https://www.youtube.com/watch?v=8jPQjjsBbIc\"  # Replace with your chosen video URL\n",
    "summary_result, video_info, transcript = process_youtube_video(video_url)"
   ]
  },
  {
   "cell_type": "markdown",
   "id": "20e481d5",
   "metadata": {
    "papermill": {
     "duration": 0.004761,
     "end_time": "2025-04-04T22:22:23.735589",
     "exception": false,
     "start_time": "2025-04-04T22:22:23.730828",
     "status": "completed"
    },
    "tags": []
   },
   "source": [
    "### Save Results for Future Reference"
   ]
  },
  {
   "cell_type": "code",
   "execution_count": 13,
   "id": "47a5ffdc",
   "metadata": {
    "execution": {
     "iopub.execute_input": "2025-04-04T22:22:23.746410Z",
     "iopub.status.busy": "2025-04-04T22:22:23.746094Z",
     "iopub.status.idle": "2025-04-04T22:22:23.751398Z",
     "shell.execute_reply": "2025-04-04T22:22:23.750280Z"
    },
    "papermill": {
     "duration": 0.012555,
     "end_time": "2025-04-04T22:22:23.752954",
     "exception": false,
     "start_time": "2025-04-04T22:22:23.740399",
     "status": "completed"
    },
    "tags": []
   },
   "outputs": [],
   "source": [
    "# Save results to files\n",
    "def save_results(summary, video_info, transcript, output_dir=\"outputs\"):\n",
    "    \"\"\"Save the results to files.\"\"\"\n",
    "    if not os.path.exists(output_dir):\n",
    "        os.makedirs(output_dir)\n",
    "    \n",
    "    # Clean up video title for filename\n",
    "    safe_title = re.sub(r'[^\\w\\s-]', '', video_info['title']).strip().replace(' ', '_')\n",
    "    \n",
    "    # Save summary\n",
    "    with open(f\"{output_dir}/{safe_title}_summary.json\", \"w\") as f:\n",
    "        json.dump(summary, f, indent=2)\n",
    "    \n",
    "    # Save video info\n",
    "    with open(f\"{output_dir}/{safe_title}_info.json\", \"w\") as f:\n",
    "        # Convert datetime to string for JSON serialization\n",
    "        info_copy = video_info.copy()\n",
    "        if 'publish_date' in info_copy and info_copy['publish_date']:\n",
    "            info_copy['publish_date'] = str(info_copy['publish_date'])\n",
    "        json.dump(info_copy, f, indent=2)\n",
    "    \n",
    "    # Save transcript\n",
    "    with open(f\"{output_dir}/{safe_title}_transcript.txt\", \"w\") as f:\n",
    "        f.write(transcript)\n",
    "    \n",
    "    print(f\"Results saved to {output_dir}/ directory\")\n",
    "\n",
    "# Uncomment to save results\n",
    "# save_results(summary_result, video_info, transcript)"
   ]
  },
  {
   "cell_type": "markdown",
   "id": "6b83f622",
   "metadata": {
    "papermill": {
     "duration": 0.004923,
     "end_time": "2025-04-04T22:22:23.763770",
     "exception": false,
     "start_time": "2025-04-04T22:22:23.758847",
     "status": "completed"
    },
    "tags": []
   },
   "source": [
    "## Batch Processing Multiple Videos"
   ]
  },
  {
   "cell_type": "code",
   "execution_count": 14,
   "id": "a3fb2292",
   "metadata": {
    "execution": {
     "iopub.execute_input": "2025-04-04T22:22:23.775091Z",
     "iopub.status.busy": "2025-04-04T22:22:23.774783Z",
     "iopub.status.idle": "2025-04-04T22:22:23.779373Z",
     "shell.execute_reply": "2025-04-04T22:22:23.778610Z"
    },
    "papermill": {
     "duration": 0.011615,
     "end_time": "2025-04-04T22:22:23.780460",
     "exception": false,
     "start_time": "2025-04-04T22:22:23.768845",
     "status": "completed"
    },
    "tags": []
   },
   "outputs": [],
   "source": [
    "def process_multiple_videos(video_urls):\n",
    "    \"\"\"Process multiple YouTube videos and compile their summaries.\"\"\"\n",
    "    results = []\n",
    "    \n",
    "    for i, url in enumerate(video_urls):\n",
    "        print(f\"\\n\\n--- Processing video {i+1}/{len(video_urls)} ---\")\n",
    "        try:\n",
    "            summary, video_info, _ = process_youtube_video(url)\n",
    "            results.append({\n",
    "                \"url\": url,\n",
    "                \"title\": video_info['title'],\n",
    "                \"channel\": video_info['channel'],\n",
    "                \"summary\": summary\n",
    "            })\n",
    "        except Exception as e:\n",
    "            print(f\"Error processing {url}: {e}\")\n",
    "            results.append({\n",
    "                \"url\": url,\n",
    "                \"error\": str(e)\n",
    "            })\n",
    "    \n",
    "    return results\n",
    "\n",
    "# Example list of videos\n",
    "example_videos = [\n",
    "    \"https://www.youtube.com/watch?v=dQw4w9WgXcQ\",  # Replace with actual videos\n",
    "    \"https://www.youtube.com/watch?v=9bZkp7q19f0\"\n",
    "]\n",
    "\n",
    "# Uncomment to process multiple videos\n",
    "# batch_results = process_multiple_videos(example_videos)"
   ]
  },
  {
   "cell_type": "markdown",
   "id": "233f93b2",
   "metadata": {
    "papermill": {
     "duration": 0.004777,
     "end_time": "2025-04-04T22:22:23.790941",
     "exception": false,
     "start_time": "2025-04-04T22:22:23.786164",
     "status": "completed"
    },
    "tags": []
   },
   "source": [
    "## Evaluation and Analysis\n",
    "\n",
    "### Evaluate Summary Quality"
   ]
  },
  {
   "cell_type": "code",
   "execution_count": 15,
   "id": "c0e460f8",
   "metadata": {
    "execution": {
     "iopub.execute_input": "2025-04-04T22:22:23.802229Z",
     "iopub.status.busy": "2025-04-04T22:22:23.801897Z",
     "iopub.status.idle": "2025-04-04T22:22:23.807396Z",
     "shell.execute_reply": "2025-04-04T22:22:23.806338Z"
    },
    "papermill": {
     "duration": 0.012461,
     "end_time": "2025-04-04T22:22:23.808528",
     "exception": false,
     "start_time": "2025-04-04T22:22:23.796067",
     "status": "completed"
    },
    "tags": []
   },
   "outputs": [],
   "source": [
    "def evaluate_summary(summary, transcript):\n",
    "    \"\"\"Evaluate the quality of the generated summary.\"\"\"\n",
    "    # Initialize Gemini model\n",
    "    model = genai.GenerativeModel('gemini-1.5-pro')\n",
    "    \n",
    "    evaluation_prompt = f\"\"\"\n",
    "You are an expert in evaluating text summaries. Please evaluate the following summary of a video transcript.\n",
    "\n",
    "Original Transcript (excerpt): \n",
    "{transcript[:2000]}... [truncated]\n",
    "\n",
    "Generated Summary:\n",
    "{json.dumps(summary, indent=2)}\n",
    "\n",
    "Please evaluate this summary on the following criteria:\n",
    "1. Accuracy - Does the summary correctly represent the main points in the transcript?\n",
    "2. Completeness - Does the summary include all key information?\n",
    "3. Conciseness - Is the summary appropriately brief while conveying necessary information?\n",
    "4. Clarity - Is the summary well-structured and easy to understand?\n",
    "\n",
    "For each criterion, give a score from 1-10 and provide a brief explanation.\n",
    "Then give an overall score out of 10, and suggest one or two specific improvements.\n",
    "\n",
    "Format your response as JSON like this:\n",
    "{{\n",
    "  \"accuracy\": {{\n",
    "    \"score\": 0,\n",
    "    \"explanation\": \"\"\n",
    "  }},\n",
    "  \"completeness\": {{\n",
    "    \"score\": 0,\n",
    "    \"explanation\": \"\"\n",
    "  }},\n",
    "  \"conciseness\": {{\n",
    "    \"score\": 0,\n",
    "    \"explanation\": \"\"\n",
    "  }},\n",
    "  \"clarity\": {{\n",
    "    \"score\": 0,\n",
    "    \"explanation\": \"\"\n",
    "  }},\n",
    "  \"overall\": {{\n",
    "    \"score\": 0,\n",
    "    \"explanation\": \"\"\n",
    "  }},\n",
    "  \"improvements\": []\n",
    "}}\n",
    "\"\"\"\n",
    "    \n",
    "    try:\n",
    "        response = model.generate_content(evaluation_prompt)\n",
    "        evaluation_text = response.text\n",
    "        \n",
    "        # Find JSON object in the response\n",
    "        json_match = re.search(r'\\{.*\\}', evaluation_text, re.DOTALL)\n",
    "        \n",
    "        if json_match:\n",
    "            try:\n",
    "                evaluation = json.loads(json_match.group(0))\n",
    "                return evaluation\n",
    "            except json.JSONDecodeError:\n",
    "                print(\"Failed to parse JSON from evaluation response\")\n",
    "                return {\"error\": \"Failed to parse JSON\", \"raw_response\": evaluation_text}\n",
    "        else:\n",
    "            print(\"No JSON found in evaluation response\")\n",
    "            return {\"error\": \"No JSON found\", \"raw_response\": evaluation_text}\n",
    "            \n",
    "    except Exception as e:\n",
    "        print(f\"Error evaluating summary: {e}\")\n",
    "        return {\"error\": str(e)}"
   ]
  },
  {
   "cell_type": "markdown",
   "id": "47a02cd8",
   "metadata": {
    "papermill": {
     "duration": 0.005011,
     "end_time": "2025-04-04T22:22:23.818865",
     "exception": false,
     "start_time": "2025-04-04T22:22:23.813854",
     "status": "completed"
    },
    "tags": []
   },
   "source": [
    "### Display Evaluation Results"
   ]
  },
  {
   "cell_type": "code",
   "execution_count": 16,
   "id": "48094474",
   "metadata": {
    "execution": {
     "iopub.execute_input": "2025-04-04T22:22:23.830060Z",
     "iopub.status.busy": "2025-04-04T22:22:23.829723Z",
     "iopub.status.idle": "2025-04-04T22:22:23.836888Z",
     "shell.execute_reply": "2025-04-04T22:22:23.836128Z"
    },
    "papermill": {
     "duration": 0.014078,
     "end_time": "2025-04-04T22:22:23.837914",
     "exception": false,
     "start_time": "2025-04-04T22:22:23.823836",
     "status": "completed"
    },
    "tags": []
   },
   "outputs": [],
   "source": [
    "def display_evaluation(evaluation):\n",
    "    \"\"\"Display the evaluation results in a readable format.\"\"\"\n",
    "    if \"error\" in evaluation:\n",
    "        print(f\"Error in evaluation: {evaluation['error']}\")\n",
    "        if \"raw_response\" in evaluation:\n",
    "            print(f\"Raw response: {evaluation['raw_response']}\")\n",
    "        return\n",
    "    \n",
    "    scores = [\n",
    "        evaluation.get('accuracy', {}).get('score', 0),\n",
    "        evaluation.get('completeness', {}).get('score', 0),\n",
    "        evaluation.get('conciseness', {}).get('score', 0),\n",
    "        evaluation.get('clarity', {}).get('score', 0)\n",
    "    ]\n",
    "    \n",
    "    categories = ['Accuracy', 'Completeness', 'Conciseness', 'Clarity']\n",
    "    \n",
    "    # Create radar chart\n",
    "    plt.figure(figsize=(8, 8))\n",
    "    \n",
    "    # Create radar plot\n",
    "    angles = np.linspace(0, 2*np.pi, len(categories), endpoint=False).tolist()\n",
    "    angles += angles[:1]  # Close the loop\n",
    "    \n",
    "    scores = scores + scores[:1]  # Close the loop\n",
    "    \n",
    "    ax = plt.subplot(111, polar=True)\n",
    "    ax.set_theta_offset(np.pi / 2)\n",
    "    ax.set_theta_direction(-1)\n",
    "    ax.set_rlabel_position(0)\n",
    "    \n",
    "    plt.xticks(angles[:-1], categories)\n",
    "    ax.set_rlim(0, 10)\n",
    "    plt.yticks([2, 4, 6, 8, 10], ['2', '4', '6', '8', '10'], color='grey', size=7)\n",
    "    \n",
    "    ax.plot(angles, scores, linewidth=1, linestyle='solid')\n",
    "    ax.fill(angles, scores, alpha=0.1)\n",
    "    \n",
    "    plt.title('Summary Evaluation Scores', size=14)\n",
    "    plt.tight_layout()\n",
    "    \n",
    "    plt.show()\n",
    "    \n",
    "    # Display detailed results\n",
    "    overall = evaluation.get('overall', {})\n",
    "    print(f\"Overall Score: {overall.get('score', 'N/A')}/10\")\n",
    "    print(f\"Overall Assessment: {overall.get('explanation', 'N/A')}\")\n",
    "    \n",
    "    print(\"\\nDetailed Evaluation:\")\n",
    "    for category in categories:\n",
    "        cat_lower = category.lower()\n",
    "        if cat_lower in evaluation:\n",
    "            print(f\"{category}: {evaluation[cat_lower].get('score', 'N/A')}/10\")\n",
    "            print(f\"  {evaluation[cat_lower].get('explanation', 'N/A')}\")\n",
    "    \n",
    "    print(\"\\nSuggested Improvements:\")\n",
    "    for improvement in evaluation.get('improvements', []):\n",
    "        print(f\"- {improvement}\")"
   ]
  },
  {
   "cell_type": "markdown",
   "id": "ad9c332f",
   "metadata": {
    "papermill": {
     "duration": 0.004801,
     "end_time": "2025-04-04T22:22:23.848227",
     "exception": false,
     "start_time": "2025-04-04T22:22:23.843426",
     "status": "completed"
    },
    "tags": []
   },
   "source": [
    "### Run an Evaluation"
   ]
  },
  {
   "cell_type": "code",
   "execution_count": 17,
   "id": "86fee688",
   "metadata": {
    "execution": {
     "iopub.execute_input": "2025-04-04T22:22:23.861158Z",
     "iopub.status.busy": "2025-04-04T22:22:23.860839Z",
     "iopub.status.idle": "2025-04-04T22:22:23.863911Z",
     "shell.execute_reply": "2025-04-04T22:22:23.863233Z"
    },
    "papermill": {
     "duration": 0.010805,
     "end_time": "2025-04-04T22:22:23.865195",
     "exception": false,
     "start_time": "2025-04-04T22:22:23.854390",
     "status": "completed"
    },
    "tags": []
   },
   "outputs": [],
   "source": [
    "# Uncomment to run evaluation\n",
    "# evaluation_results = evaluate_summary(summary_result, transcript)\n",
    "# display_evaluation(evaluation_results)"
   ]
  },
  {
   "cell_type": "markdown",
   "id": "55af013c",
   "metadata": {
    "papermill": {
     "duration": 0.004861,
     "end_time": "2025-04-04T22:22:23.875560",
     "exception": false,
     "start_time": "2025-04-04T22:22:23.870699",
     "status": "completed"
    },
    "tags": []
   },
   "source": [
    "## Conclusion\n",
    "\n",
    "This notebook demonstrates a practical application of Gen AI capabilities for summarizing YouTube videos. We've implemented:\n",
    "\n",
    "1. **Document Understanding** - Processing and comprehending video transcripts\n",
    "2. **Structured Output** - Generating summaries in consistent, structured JSON format\n",
    "3. **Few-shot Prompting** - Improving summary quality with examples\n",
    "4. **Long Context Window** - Handling lengthy video transcripts\n",
    "\n",
    "The system provides valuable time-saving benefits by extracting the key information from videos, allowing users to quickly understand content without watching the entire video.\n",
    "\n",
    "### Limitations and Future Work\n",
    "\n",
    "- The quality of summaries depends on the quality of video transcripts\n",
    "- Videos without transcripts cannot be processed\n",
    "- The system could be expanded to include:\n",
    "  - Multi-language support\n",
    "  - Visual information extraction from video frames\n",
    "  - Topic clustering across multiple related videos\n",
    "  - User feedback to improve summary quality over time"
   ]
  }
 ],
 "metadata": {
  "kaggle": {
   "accelerator": "none",
   "dataSources": [],
   "dockerImageVersionId": 30918,
   "isGpuEnabled": false,
   "isInternetEnabled": true,
   "language": "python",
   "sourceType": "notebook"
  },
  "kernelspec": {
   "display_name": "Python 3",
   "language": "python",
   "name": "python3"
  },
  "language_info": {
   "codemirror_mode": {
    "name": "ipython",
    "version": 3
   },
   "file_extension": ".py",
   "mimetype": "text/x-python",
   "name": "python",
   "nbconvert_exporter": "python",
   "pygments_lexer": "ipython3",
   "version": "3.10.12"
  },
  "papermill": {
   "default_parameters": {},
   "duration": 20.430715,
   "end_time": "2025-04-04T22:22:27.300549",
   "environment_variables": {},
   "exception": null,
   "input_path": "__notebook__.ipynb",
   "output_path": "__notebook__.ipynb",
   "parameters": {},
   "start_time": "2025-04-04T22:22:06.869834",
   "version": "2.6.0"
  }
 },
 "nbformat": 4,
 "nbformat_minor": 5
}
